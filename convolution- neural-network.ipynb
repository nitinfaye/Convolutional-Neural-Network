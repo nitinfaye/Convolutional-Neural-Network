{
 "cells": [
  {
   "cell_type": "markdown",
   "metadata": {
    "id": "3DR-eO17geWu"
   },
   "source": [
    "# Convolutional Neural Network"
   ]
  },
  {
   "cell_type": "markdown",
   "metadata": {
    "id": "EMefrVPCg-60"
   },
   "source": [
    "### Importing the libraries"
   ]
  },
  {
   "cell_type": "code",
   "execution_count": 1,
   "metadata": {
    "id": "lz6jmFSkRg-R"
   },
   "outputs": [],
   "source": [
    "import numpy as np\n",
    "import pandas as pd\n",
    "%matplotlib inline\n",
    "import matplotlib as mpl\n",
    "import matplotlib.pyplot as plt\n",
    "import os\n",
    "import zipfile"
   ]
  },
  {
   "cell_type": "code",
   "execution_count": 2,
   "metadata": {
    "id": "sCV30xyVhFbE"
   },
   "outputs": [],
   "source": [
    "import tensorflow as tf\n",
    "from keras.preprocessing.image import ImageDataGenerator"
   ]
  },
  {
   "cell_type": "code",
   "execution_count": 3,
   "metadata": {
    "colab": {
     "base_uri": "https://localhost:8080/",
     "height": 36
    },
    "id": "FIleuCAjoFD8",
    "outputId": "49164442-c795-4354-ee76-a803a385383d"
   },
   "outputs": [
    {
     "data": {
      "text/plain": [
       "'2.4.1'"
      ]
     },
     "execution_count": 3,
     "metadata": {},
     "output_type": "execute_result"
    }
   ],
   "source": [
    "tf.__version__"
   ]
  },
  {
   "cell_type": "code",
   "execution_count": 4,
   "metadata": {
    "colab": {
     "base_uri": "https://localhost:8080/",
     "height": 352
    },
    "id": "jCKqHmwW1koy",
    "outputId": "aa07e814-1382-4ca9-db77-ea88bee7b5b0"
   },
   "outputs": [],
   "source": [
    "#zip_ref = zipfile.ZipFile(\"/content/dataset.zip\",'r')\n",
    "#zip_ref.extractall(\"/tmp\")\n",
    "#zip_ref.close()"
   ]
  },
  {
   "cell_type": "markdown",
   "metadata": {
    "id": "oxQxCBWyoGPE"
   },
   "source": [
    "## Data Preprocessing"
   ]
  },
  {
   "cell_type": "markdown",
   "metadata": {
    "id": "MvE-heJNo3GG"
   },
   "source": [
    "### Preprocessing the Training set"
   ]
  },
  {
   "cell_type": "code",
   "execution_count": 5,
   "metadata": {
    "id": "0koUcJMJpEBD"
   },
   "outputs": [
    {
     "name": "stdout",
     "output_type": "stream",
     "text": [
      "Found 8000 images belonging to 2 classes.\n"
     ]
    }
   ],
   "source": [
    "train_datagen = ImageDataGenerator(rescale = 1./255,\n",
    "                                   shear_range = 0.2,\n",
    "                                   zoom_range = 0.2,\n",
    "                                   horizontal_flip = True)\n",
    "training_set = train_datagen.flow_from_directory('datasets/training_set',\n",
    "                                                 target_size = (64, 64),\n",
    "                                                 batch_size = 32,\n",
    "                                                 class_mode = 'binary',)"
   ]
  },
  {
   "cell_type": "markdown",
   "metadata": {
    "id": "mrCMmGw9pHys"
   },
   "source": [
    "### Preprocessing the Test set"
   ]
  },
  {
   "cell_type": "code",
   "execution_count": 6,
   "metadata": {
    "id": "SH4WzfOhpKc3"
   },
   "outputs": [
    {
     "name": "stdout",
     "output_type": "stream",
     "text": [
      "Found 2000 images belonging to 2 classes.\n"
     ]
    }
   ],
   "source": [
    "test_datagen = ImageDataGenerator(rescale = 1./255)\n",
    "test_set = test_datagen.flow_from_directory('datasets/test_set',\n",
    "                                            target_size = (64, 64),\n",
    "                                            batch_size = 32,\n",
    "                                            class_mode = 'binary')"
   ]
  },
  {
   "cell_type": "markdown",
   "metadata": {
    "id": "af8O4l90gk7B"
   },
   "source": [
    "## Building the CNN"
   ]
  },
  {
   "cell_type": "markdown",
   "metadata": {
    "id": "ces1gXY2lmoX"
   },
   "source": [
    "### Initialising the CNN"
   ]
  },
  {
   "cell_type": "code",
   "execution_count": 7,
   "metadata": {
    "id": "SAUt4UMPlhLS"
   },
   "outputs": [],
   "source": [
    "cnn = tf.keras.models.Sequential()"
   ]
  },
  {
   "cell_type": "markdown",
   "metadata": {
    "id": "u5YJj_XMl5LF"
   },
   "source": [
    "### Convolution"
   ]
  },
  {
   "cell_type": "code",
   "execution_count": 8,
   "metadata": {
    "id": "XPzPrMckl-hV"
   },
   "outputs": [],
   "source": [
    "cnn.add(tf.keras.layers.Conv2D(filters=32, kernel_size=3, activation='relu', input_shape=[64, 64, 3]))"
   ]
  },
  {
   "cell_type": "markdown",
   "metadata": {
    "id": "tf87FpvxmNOJ"
   },
   "source": [
    "###Pooling"
   ]
  },
  {
   "cell_type": "code",
   "execution_count": 9,
   "metadata": {
    "id": "ncpqPl69mOac"
   },
   "outputs": [],
   "source": [
    "cnn.add(tf.keras.layers.MaxPool2D(pool_size=2, strides=2))"
   ]
  },
  {
   "cell_type": "markdown",
   "metadata": {
    "id": "xaTOgD8rm4mU"
   },
   "source": [
    "### Adding a second convolutional layer"
   ]
  },
  {
   "cell_type": "code",
   "execution_count": 10,
   "metadata": {
    "id": "i_-FZjn_m8gk"
   },
   "outputs": [],
   "source": [
    "cnn.add(tf.keras.layers.Conv2D(filters=32, kernel_size=3, activation='relu'))\n",
    "cnn.add(tf.keras.layers.MaxPool2D(pool_size=2, strides=2))"
   ]
  },
  {
   "cell_type": "markdown",
   "metadata": {
    "id": "tmiEuvTunKfk"
   },
   "source": [
    "###Flattening"
   ]
  },
  {
   "cell_type": "code",
   "execution_count": 11,
   "metadata": {
    "id": "6AZeOGCvnNZn"
   },
   "outputs": [],
   "source": [
    "cnn.add(tf.keras.layers.Flatten())"
   ]
  },
  {
   "cell_type": "markdown",
   "metadata": {
    "id": "dAoSECOm203v"
   },
   "source": [
    "###Full Connection"
   ]
  },
  {
   "cell_type": "code",
   "execution_count": 12,
   "metadata": {
    "id": "8GtmUlLd26Nq"
   },
   "outputs": [],
   "source": [
    "cnn.add(tf.keras.layers.Dense(units=128, activation='relu'))"
   ]
  },
  {
   "cell_type": "markdown",
   "metadata": {
    "id": "yTldFvbX28Na"
   },
   "source": [
    "###Output Layer"
   ]
  },
  {
   "cell_type": "code",
   "execution_count": 13,
   "metadata": {
    "id": "1p_Zj1Mc3Ko_"
   },
   "outputs": [],
   "source": [
    "cnn.add(tf.keras.layers.Dense(units=1, activation='sigmoid'))"
   ]
  },
  {
   "cell_type": "markdown",
   "metadata": {
    "id": "D6XkI90snSDl"
   },
   "source": [
    "##Training the CNN"
   ]
  },
  {
   "cell_type": "markdown",
   "metadata": {
    "id": "vfrFQACEnc6i"
   },
   "source": [
    "### Compiling the CNN"
   ]
  },
  {
   "cell_type": "code",
   "execution_count": 14,
   "metadata": {
    "id": "NALksrNQpUlJ"
   },
   "outputs": [],
   "source": [
    "cnn.compile(optimizer = 'adam', loss = 'binary_crossentropy', metrics = ['accuracy'])"
   ]
  },
  {
   "cell_type": "markdown",
   "metadata": {
    "id": "ehS-v3MIpX2h"
   },
   "source": [
    "### Training the CNN on the Training set and evaluating it on the Test set"
   ]
  },
  {
   "cell_type": "code",
   "execution_count": 15,
   "metadata": {
    "id": "XUj1W4PJptta"
   },
   "outputs": [
    {
     "name": "stdout",
     "output_type": "stream",
     "text": [
      "Epoch 1/25\n",
      "250/250 [==============================] - 306s 1s/step - loss: 0.7071 - accuracy: 0.5164 - val_loss: 0.6480 - val_accuracy: 0.6145\n",
      "Epoch 2/25\n",
      "250/250 [==============================] - 202s 807ms/step - loss: 0.6559 - accuracy: 0.6111 - val_loss: 0.6183 - val_accuracy: 0.6945\n",
      "Epoch 3/25\n",
      "250/250 [==============================] - 73s 288ms/step - loss: 0.6194 - accuracy: 0.6634 - val_loss: 0.6113 - val_accuracy: 0.6640\n",
      "Epoch 4/25\n",
      "250/250 [==============================] - 53s 211ms/step - loss: 0.5853 - accuracy: 0.6974 - val_loss: 0.5651 - val_accuracy: 0.7110\n",
      "Epoch 5/25\n",
      "250/250 [==============================] - 99s 395ms/step - loss: 0.5530 - accuracy: 0.7183 - val_loss: 0.5455 - val_accuracy: 0.7245\n",
      "Epoch 6/25\n",
      "250/250 [==============================] - 199s 796ms/step - loss: 0.5387 - accuracy: 0.7248 - val_loss: 0.5202 - val_accuracy: 0.7510\n",
      "Epoch 7/25\n",
      "250/250 [==============================] - 221s 886ms/step - loss: 0.5070 - accuracy: 0.7475 - val_loss: 0.5385 - val_accuracy: 0.7170\n",
      "Epoch 8/25\n",
      "250/250 [==============================] - 226s 904ms/step - loss: 0.4801 - accuracy: 0.7625 - val_loss: 0.4898 - val_accuracy: 0.7685\n",
      "Epoch 9/25\n",
      "250/250 [==============================] - 222s 889ms/step - loss: 0.4488 - accuracy: 0.7909 - val_loss: 0.4960 - val_accuracy: 0.7535\n",
      "Epoch 10/25\n",
      "250/250 [==============================] - 248s 994ms/step - loss: 0.4460 - accuracy: 0.7872 - val_loss: 0.5063 - val_accuracy: 0.7670\n",
      "Epoch 11/25\n",
      "250/250 [==============================] - 238s 950ms/step - loss: 0.4134 - accuracy: 0.8065 - val_loss: 0.5717 - val_accuracy: 0.7285\n",
      "Epoch 12/25\n",
      "250/250 [==============================] - 144s 574ms/step - loss: 0.4178 - accuracy: 0.8026 - val_loss: 0.5045 - val_accuracy: 0.7695\n",
      "Epoch 13/25\n",
      "250/250 [==============================] - 94s 373ms/step - loss: 0.3981 - accuracy: 0.8185 - val_loss: 0.5493 - val_accuracy: 0.7540\n",
      "Epoch 14/25\n",
      "250/250 [==============================] - 78s 313ms/step - loss: 0.3908 - accuracy: 0.8219 - val_loss: 0.4856 - val_accuracy: 0.7865\n",
      "Epoch 15/25\n",
      "250/250 [==============================] - 84s 335ms/step - loss: 0.3583 - accuracy: 0.8390 - val_loss: 0.5054 - val_accuracy: 0.7800\n",
      "Epoch 16/25\n",
      "250/250 [==============================] - 79s 315ms/step - loss: 0.3452 - accuracy: 0.8511 - val_loss: 0.5156 - val_accuracy: 0.7650\n",
      "Epoch 17/25\n",
      "250/250 [==============================] - 79s 315ms/step - loss: 0.3307 - accuracy: 0.8521 - val_loss: 0.5068 - val_accuracy: 0.7765\n",
      "Epoch 18/25\n",
      "250/250 [==============================] - 83s 333ms/step - loss: 0.3044 - accuracy: 0.8714 - val_loss: 0.5320 - val_accuracy: 0.7670\n",
      "Epoch 19/25\n",
      "250/250 [==============================] - 240s 960ms/step - loss: 0.2867 - accuracy: 0.8784 - val_loss: 0.5491 - val_accuracy: 0.7655\n",
      "Epoch 20/25\n",
      "250/250 [==============================] - 262s 1s/step - loss: 0.2756 - accuracy: 0.8872 - val_loss: 0.5168 - val_accuracy: 0.7875\n",
      "Epoch 21/25\n",
      "250/250 [==============================] - 264s 1s/step - loss: 0.2475 - accuracy: 0.9005 - val_loss: 0.5698 - val_accuracy: 0.7810\n",
      "Epoch 22/25\n",
      "250/250 [==============================] - 213s 849ms/step - loss: 0.2485 - accuracy: 0.8947 - val_loss: 0.6049 - val_accuracy: 0.7775\n",
      "Epoch 23/25\n",
      "250/250 [==============================] - 497s 2s/step - loss: 0.2339 - accuracy: 0.9008 - val_loss: 0.5599 - val_accuracy: 0.7805\n",
      "Epoch 24/25\n",
      "250/250 [==============================] - 1827s 7s/step - loss: 0.2109 - accuracy: 0.9139 - val_loss: 0.5863 - val_accuracy: 0.7780\n",
      "Epoch 25/25\n",
      "250/250 [==============================] - 312s 1s/step - loss: 0.1960 - accuracy: 0.9249 - val_loss: 0.6111 - val_accuracy: 0.7820\n"
     ]
    },
    {
     "data": {
      "text/plain": [
       "<tensorflow.python.keras.callbacks.History at 0x16ad3fb2310>"
      ]
     },
     "execution_count": 15,
     "metadata": {},
     "output_type": "execute_result"
    }
   ],
   "source": [
    "cnn.fit(x = training_set, validation_data = test_set, epochs = 25)"
   ]
  },
  {
   "cell_type": "markdown",
   "metadata": {
    "id": "U3PZasO0006Z"
   },
   "source": [
    "##Making a single prediction"
   ]
  },
  {
   "cell_type": "code",
   "execution_count": 16,
   "metadata": {
    "id": "gsSiWEJY1BPB"
   },
   "outputs": [],
   "source": [
    "from keras.preprocessing import image\n",
    "test_image = image.load_img('datasets/single_prediction/cat_or_dog_1.jpg', target_size = (64, 64))\n",
    "test_image = image.img_to_array(test_image)\n",
    "test_image = np.expand_dims(test_image, axis = 0)\n",
    "result = cnn.predict(test_image)\n",
    "training_set.class_indices\n",
    "if result[0][0] == 1:\n",
    "  prediction = 'dog'\n",
    "else:\n",
    "  prediction = 'cat'\n"
   ]
  },
  {
   "cell_type": "code",
   "execution_count": 17,
   "metadata": {
    "id": "ED9KB3I54c1i"
   },
   "outputs": [
    {
     "name": "stdout",
     "output_type": "stream",
     "text": [
      "dog\n"
     ]
    }
   ],
   "source": [
    "print(prediction)"
   ]
  },
  {
   "cell_type": "code",
   "execution_count": 31,
   "metadata": {},
   "outputs": [],
   "source": [
    "from PIL import Image\n",
    "im = Image.open(r'datasets/single_prediction/cat_or_dog_1.jpg')\n",
    "im.show()"
   ]
  },
  {
   "cell_type": "code",
   "execution_count": 32,
   "metadata": {},
   "outputs": [],
   "source": [
    "test_image = image.load_img('datasets/single_prediction/cat_or_dog_2.jpg', target_size = (64, 64))\n",
    "test_image = image.img_to_array(test_image)\n",
    "test_image = np.expand_dims(test_image, axis = 0)\n",
    "result = cnn.predict(test_image)\n",
    "training_set.class_indices\n",
    "if result[0][0] == 1:\n",
    "  prediction = 'dog'\n",
    "else:\n",
    "  prediction = 'cat'"
   ]
  },
  {
   "cell_type": "code",
   "execution_count": 33,
   "metadata": {},
   "outputs": [
    {
     "name": "stdout",
     "output_type": "stream",
     "text": [
      "cat\n"
     ]
    }
   ],
   "source": [
    "print(prediction)"
   ]
  },
  {
   "cell_type": "code",
   "execution_count": 34,
   "metadata": {},
   "outputs": [],
   "source": [
    "im = Image.open(r'datasets/single_prediction/cat_or_dog_2.jpg')\n",
    "im.show()"
   ]
  },
  {
   "cell_type": "code",
   "execution_count": null,
   "metadata": {},
   "outputs": [],
   "source": []
  }
 ],
 "metadata": {
  "colab": {
   "collapsed_sections": [],
   "name": "CONVOL~1.IPY",
   "provenance": []
  },
  "kernelspec": {
   "display_name": "Python 3",
   "language": "python",
   "name": "python3"
  },
  "language_info": {
   "codemirror_mode": {
    "name": "ipython",
    "version": 3
   },
   "file_extension": ".py",
   "mimetype": "text/x-python",
   "name": "python",
   "nbconvert_exporter": "python",
   "pygments_lexer": "ipython3",
   "version": "3.8.3"
  }
 },
 "nbformat": 4,
 "nbformat_minor": 1
}

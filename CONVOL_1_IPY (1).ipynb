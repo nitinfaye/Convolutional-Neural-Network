{
 "cells": [
  {
   "cell_type": "markdown",
   "metadata": {
    "id": "3DR-eO17geWu"
   },
   "source": [
    "# Convolutional Neural Network"
   ]
  },
  {
   "cell_type": "markdown",
   "metadata": {
    "id": "EMefrVPCg-60"
   },
   "source": [
    "### Importing the libraries"
   ]
  },
  {
   "cell_type": "code",
   "execution_count": 1,
   "metadata": {
    "id": "lz6jmFSkRg-R"
   },
   "outputs": [],
   "source": [
    "import numpy as np\n",
    "import pandas as pd\n",
    "%matplotlib inline\n",
    "import matplotlib as mpl\n",
    "import matplotlib.pyplot as plt\n",
    "import os"
   ]
  },
  {
   "cell_type": "code",
   "execution_count": 2,
   "metadata": {
    "id": "sCV30xyVhFbE"
   },
   "outputs": [],
   "source": [
    "import tensorflow as tf\n",
    "from keras.preprocessing.image import ImageDataGenerator"
   ]
  },
  {
   "cell_type": "code",
   "execution_count": 3,
   "metadata": {
    "colab": {
     "base_uri": "https://localhost:8080/",
     "height": 36
    },
    "id": "FIleuCAjoFD8",
    "outputId": "0625ed1a-4dee-4e08-c6c9-1fc4c1af8b89"
   },
   "outputs": [
    {
     "data": {
      "text/plain": [
       "'2.4.1'"
      ]
     },
     "execution_count": 3,
     "metadata": {},
     "output_type": "execute_result"
    }
   ],
   "source": [
    "tf.__version__"
   ]
  },
  {
   "cell_type": "code",
   "execution_count": 4,
   "metadata": {
    "colab": {
     "base_uri": "https://localhost:8080/"
    },
    "id": "RlPHKVF7tqEM",
    "outputId": "fb3f4172-6740-4ec4-a313-1d2e55898797"
   },
   "outputs": [],
   "source": [
    "#!unzip dataset"
   ]
  },
  {
   "cell_type": "markdown",
   "metadata": {
    "id": "oxQxCBWyoGPE"
   },
   "source": [
    "## Data Preprocessing"
   ]
  },
  {
   "cell_type": "markdown",
   "metadata": {
    "id": "MvE-heJNo3GG"
   },
   "source": [
    "### Preprocessing the Training set"
   ]
  },
  {
   "cell_type": "code",
   "execution_count": 5,
   "metadata": {
    "colab": {
     "base_uri": "https://localhost:8080/",
     "height": 370
    },
    "id": "0koUcJMJpEBD",
    "outputId": "44e4b8a6-958a-45e4-84d0-ecacc469f324"
   },
   "outputs": [
    {
     "name": "stdout",
     "output_type": "stream",
     "text": [
      "Found 2000 images belonging to 2 classes.\n"
     ]
    }
   ],
   "source": [
    "train_datagen = ImageDataGenerator(rescale = 1./255,\n",
    "                                   shear_range = 0.2,\n",
    "                                   zoom_range = 0.2,\n",
    "                                   horizontal_flip = True)\n",
    "training_set = train_datagen.flow_from_directory('dataset/train',\n",
    "                                                 target_size = (64, 64),\n",
    "                                                 batch_size = 32,\n",
    "                                                 class_mode = 'binary',)"
   ]
  },
  {
   "cell_type": "markdown",
   "metadata": {
    "id": "mrCMmGw9pHys"
   },
   "source": [
    "### Preprocessing the Test set"
   ]
  },
  {
   "cell_type": "code",
   "execution_count": 6,
   "metadata": {
    "id": "SH4WzfOhpKc3"
   },
   "outputs": [
    {
     "name": "stdout",
     "output_type": "stream",
     "text": [
      "Found 1000 images belonging to 2 classes.\n"
     ]
    }
   ],
   "source": [
    "test_datagen = ImageDataGenerator(rescale = 1./255)\n",
    "test_set = test_datagen.flow_from_directory('dataset/test',\n",
    "                                            target_size = (64, 64),\n",
    "                                            batch_size = 32,\n",
    "                                            class_mode = 'binary')"
   ]
  },
  {
   "cell_type": "markdown",
   "metadata": {
    "id": "af8O4l90gk7B"
   },
   "source": [
    "## Building the CNN"
   ]
  },
  {
   "cell_type": "markdown",
   "metadata": {
    "id": "ces1gXY2lmoX"
   },
   "source": [
    "### Initialising the CNN"
   ]
  },
  {
   "cell_type": "code",
   "execution_count": 7,
   "metadata": {
    "id": "SAUt4UMPlhLS"
   },
   "outputs": [],
   "source": [
    "cnn = tf.keras.models.Sequential()"
   ]
  },
  {
   "cell_type": "markdown",
   "metadata": {
    "id": "u5YJj_XMl5LF"
   },
   "source": [
    "### Convolution"
   ]
  },
  {
   "cell_type": "code",
   "execution_count": 8,
   "metadata": {
    "id": "XPzPrMckl-hV"
   },
   "outputs": [],
   "source": [
    "cnn.add(tf.keras.layers.Conv2D(filters=32, kernel_size=3, activation='relu', input_shape=[64, 64, 3]))"
   ]
  },
  {
   "cell_type": "markdown",
   "metadata": {
    "id": "tf87FpvxmNOJ"
   },
   "source": [
    "###Pooling"
   ]
  },
  {
   "cell_type": "code",
   "execution_count": 9,
   "metadata": {
    "id": "ncpqPl69mOac"
   },
   "outputs": [],
   "source": [
    "cnn.add(tf.keras.layers.MaxPool2D(pool_size=2, strides=2))"
   ]
  },
  {
   "cell_type": "markdown",
   "metadata": {
    "id": "xaTOgD8rm4mU"
   },
   "source": [
    "### Adding a second convolutional layer"
   ]
  },
  {
   "cell_type": "code",
   "execution_count": 10,
   "metadata": {
    "id": "i_-FZjn_m8gk"
   },
   "outputs": [],
   "source": [
    "cnn.add(tf.keras.layers.Conv2D(filters=32, kernel_size=3, activation='relu'))\n",
    "cnn.add(tf.keras.layers.MaxPool2D(pool_size=2, strides=2))"
   ]
  },
  {
   "cell_type": "markdown",
   "metadata": {
    "id": "tmiEuvTunKfk"
   },
   "source": [
    "###Flattening"
   ]
  },
  {
   "cell_type": "code",
   "execution_count": 11,
   "metadata": {
    "id": "6AZeOGCvnNZn"
   },
   "outputs": [],
   "source": [
    "cnn.add(tf.keras.layers.Flatten())"
   ]
  },
  {
   "cell_type": "markdown",
   "metadata": {
    "id": "dAoSECOm203v"
   },
   "source": [
    "###Full Connection"
   ]
  },
  {
   "cell_type": "code",
   "execution_count": 12,
   "metadata": {
    "id": "8GtmUlLd26Nq"
   },
   "outputs": [],
   "source": [
    "cnn.add(tf.keras.layers.Dense(units=128, activation='relu'))"
   ]
  },
  {
   "cell_type": "markdown",
   "metadata": {
    "id": "yTldFvbX28Na"
   },
   "source": [
    "###Output Layer"
   ]
  },
  {
   "cell_type": "code",
   "execution_count": 13,
   "metadata": {
    "id": "1p_Zj1Mc3Ko_"
   },
   "outputs": [],
   "source": [
    "cnn.add(tf.keras.layers.Dense(units=1, activation='sigmoid'))"
   ]
  },
  {
   "cell_type": "markdown",
   "metadata": {
    "id": "D6XkI90snSDl"
   },
   "source": [
    "##Training the CNN"
   ]
  },
  {
   "cell_type": "markdown",
   "metadata": {
    "id": "vfrFQACEnc6i"
   },
   "source": [
    "### Compiling the CNN"
   ]
  },
  {
   "cell_type": "code",
   "execution_count": 14,
   "metadata": {
    "id": "NALksrNQpUlJ"
   },
   "outputs": [],
   "source": [
    "cnn.compile(optimizer = 'adam', loss = 'binary_crossentropy', metrics = ['accuracy'])"
   ]
  },
  {
   "cell_type": "markdown",
   "metadata": {
    "id": "ehS-v3MIpX2h"
   },
   "source": [
    "### Training the CNN on the Training set and evaluating it on the Test set"
   ]
  },
  {
   "cell_type": "code",
   "execution_count": 19,
   "metadata": {
    "id": "XUj1W4PJptta"
   },
   "outputs": [
    {
     "name": "stdout",
     "output_type": "stream",
     "text": [
      "Epoch 1/25\n",
      "63/63 [==============================] - 15s 241ms/step - loss: 0.1023 - accuracy: 0.9620 - val_loss: 0.9584 - val_accuracy: 0.7320\n",
      "Epoch 2/25\n",
      "63/63 [==============================] - 15s 232ms/step - loss: 0.0968 - accuracy: 0.9655 - val_loss: 0.9494 - val_accuracy: 0.7360\n",
      "Epoch 3/25\n",
      "63/63 [==============================] - 15s 231ms/step - loss: 0.1046 - accuracy: 0.9640 - val_loss: 0.9748 - val_accuracy: 0.7370\n",
      "Epoch 4/25\n",
      "63/63 [==============================] - 15s 235ms/step - loss: 0.0841 - accuracy: 0.9695 - val_loss: 1.1734 - val_accuracy: 0.7210\n",
      "Epoch 5/25\n",
      "63/63 [==============================] - 15s 245ms/step - loss: 0.0902 - accuracy: 0.9705 - val_loss: 0.9717 - val_accuracy: 0.7360\n",
      "Epoch 6/25\n",
      "63/63 [==============================] - 15s 239ms/step - loss: 0.0731 - accuracy: 0.9730 - val_loss: 1.1367 - val_accuracy: 0.7280\n",
      "Epoch 7/25\n",
      "63/63 [==============================] - 14s 227ms/step - loss: 0.0678 - accuracy: 0.9795 - val_loss: 1.1552 - val_accuracy: 0.7290\n",
      "Epoch 8/25\n",
      "63/63 [==============================] - 15s 231ms/step - loss: 0.0851 - accuracy: 0.9700 - val_loss: 1.0598 - val_accuracy: 0.7270\n",
      "Epoch 9/25\n",
      "63/63 [==============================] - 14s 228ms/step - loss: 0.0662 - accuracy: 0.9790 - val_loss: 1.0791 - val_accuracy: 0.7410\n",
      "Epoch 10/25\n",
      "63/63 [==============================] - 14s 229ms/step - loss: 0.0788 - accuracy: 0.9745 - val_loss: 1.2355 - val_accuracy: 0.7220\n",
      "Epoch 11/25\n",
      "63/63 [==============================] - 14s 224ms/step - loss: 0.0588 - accuracy: 0.9820 - val_loss: 1.1775 - val_accuracy: 0.7370\n",
      "Epoch 12/25\n",
      "63/63 [==============================] - 14s 227ms/step - loss: 0.0658 - accuracy: 0.9805 - val_loss: 1.0759 - val_accuracy: 0.7350\n",
      "Epoch 13/25\n",
      "63/63 [==============================] - 14s 223ms/step - loss: 0.0511 - accuracy: 0.9855 - val_loss: 1.3518 - val_accuracy: 0.7080\n",
      "Epoch 14/25\n",
      "63/63 [==============================] - 14s 222ms/step - loss: 0.0690 - accuracy: 0.9770 - val_loss: 1.2509 - val_accuracy: 0.7350\n",
      "Epoch 15/25\n",
      "63/63 [==============================] - 14s 228ms/step - loss: 0.0610 - accuracy: 0.9785 - val_loss: 1.1796 - val_accuracy: 0.7370\n",
      "Epoch 16/25\n",
      "63/63 [==============================] - 16s 251ms/step - loss: 0.0340 - accuracy: 0.9935 - val_loss: 1.2672 - val_accuracy: 0.7330\n",
      "Epoch 17/25\n",
      "63/63 [==============================] - 18s 282ms/step - loss: 0.0538 - accuracy: 0.9835 - val_loss: 1.4126 - val_accuracy: 0.7020\n",
      "Epoch 18/25\n",
      "63/63 [==============================] - 17s 268ms/step - loss: 0.0560 - accuracy: 0.9805 - val_loss: 1.2178 - val_accuracy: 0.7390\n",
      "Epoch 19/25\n",
      "63/63 [==============================] - 16s 255ms/step - loss: 0.0556 - accuracy: 0.9780 - val_loss: 1.2837 - val_accuracy: 0.7360\n",
      "Epoch 20/25\n",
      "63/63 [==============================] - 17s 274ms/step - loss: 0.0459 - accuracy: 0.9855 - val_loss: 1.5180 - val_accuracy: 0.6980\n",
      "Epoch 21/25\n",
      "63/63 [==============================] - 17s 264ms/step - loss: 0.0660 - accuracy: 0.9750 - val_loss: 1.4073 - val_accuracy: 0.7030\n",
      "Epoch 22/25\n",
      "63/63 [==============================] - 15s 244ms/step - loss: 0.0512 - accuracy: 0.9820 - val_loss: 1.2362 - val_accuracy: 0.7370\n",
      "Epoch 23/25\n",
      "63/63 [==============================] - 15s 245ms/step - loss: 0.0399 - accuracy: 0.9840 - val_loss: 1.3384 - val_accuracy: 0.7380\n",
      "Epoch 24/25\n",
      "63/63 [==============================] - 17s 265ms/step - loss: 0.0341 - accuracy: 0.9895 - val_loss: 1.3386 - val_accuracy: 0.7300\n",
      "Epoch 25/25\n",
      "63/63 [==============================] - 17s 270ms/step - loss: 0.0344 - accuracy: 0.9890 - val_loss: 1.2612 - val_accuracy: 0.7410\n"
     ]
    },
    {
     "data": {
      "text/plain": [
       "<tensorflow.python.keras.callbacks.History at 0x1bdf4627880>"
      ]
     },
     "execution_count": 19,
     "metadata": {},
     "output_type": "execute_result"
    }
   ],
   "source": [
    "cnn.fit(x = training_set, validation_data = test_set, epochs = 25)"
   ]
  },
  {
   "cell_type": "markdown",
   "metadata": {
    "id": "U3PZasO0006Z"
   },
   "source": [
    "##Making a single prediction"
   ]
  },
  {
   "cell_type": "code",
   "execution_count": 24,
   "metadata": {
    "id": "gsSiWEJY1BPB"
   },
   "outputs": [],
   "source": [
    "from keras.preprocessing import image\n",
    "test_image = image.load_img('dataset/validation/cats/cat.1006.jpg', target_size = (64, 64))\n",
    "test_image = image.img_to_array(test_image)\n",
    "test_image = np.expand_dims(test_image, axis = 0)\n",
    "result = cnn.predict(test_image)\n",
    "training_set.class_indices\n",
    "if result[0][0] == 1:\n",
    "  prediction = 'cat'\n",
    "else:\n",
    "  prediction = 'dog'"
   ]
  },
  {
   "cell_type": "code",
   "execution_count": 25,
   "metadata": {
    "id": "ED9KB3I54c1i"
   },
   "outputs": [
    {
     "name": "stdout",
     "output_type": "stream",
     "text": [
      "cat\n"
     ]
    }
   ],
   "source": [
    "print(prediction)"
   ]
  },
  {
   "cell_type": "code",
   "execution_count": null,
   "metadata": {},
   "outputs": [],
   "source": []
  }
 ],
 "metadata": {
  "colab": {
   "collapsed_sections": [],
   "name": "CONVOL~1.IPY",
   "provenance": []
  },
  "kernelspec": {
   "display_name": "Python 3",
   "language": "python",
   "name": "python3"
  },
  "language_info": {
   "codemirror_mode": {
    "name": "ipython",
    "version": 3
   },
   "file_extension": ".py",
   "mimetype": "text/x-python",
   "name": "python",
   "nbconvert_exporter": "python",
   "pygments_lexer": "ipython3",
   "version": "3.8.3"
  }
 },
 "nbformat": 4,
 "nbformat_minor": 1
}
